{
 "cells": [
  {
   "cell_type": "code",
   "execution_count": 1,
   "id": "0e2dd568",
   "metadata": {},
   "outputs": [],
   "source": [
    "import pandas as pd\n",
    "import networkx as nx\n",
    "import random\n",
    "\n",
    "# Load the data\n",
    "features_path = '/home/achoo/Desktop/GroupHw/large_twitch_features.csv'\n",
    "edges_path = '/home/achoo/Desktop/GroupHw/large_twitch_edges.csv'\n",
    "\n",
    "features_df = pd.read_csv(features_path)\n",
    "edges_df = pd.read_csv(edges_path)"
   ]
  },
  {
   "cell_type": "code",
   "execution_count": 2,
   "id": "ceb0da66",
   "metadata": {},
   "outputs": [],
   "source": [
    "# Construct the graph and extract the LCC\n",
    "G = nx.Graph()\n",
    "edges = edges_df[['numeric_id_1', 'numeric_id_2']].values\n",
    "G.add_edges_from(edges)"
   ]
  },
  {
   "cell_type": "code",
   "execution_count": 3,
   "id": "111bc742",
   "metadata": {},
   "outputs": [],
   "source": [
    "# Extract the largest connected component\n",
    "largest_cc = max(nx.connected_components(G), key=len)\n",
    "G_lcc = G.subgraph(largest_cc).copy()"
   ]
  },
  {
   "cell_type": "code",
   "execution_count": 4,
   "id": "b21d4845",
   "metadata": {},
   "outputs": [],
   "source": [
    "# Calculate size and average degree for the LCC\n",
    "size_lcc = G_lcc.number_of_nodes()\n",
    "avg_degree_lcc = sum(dict(G_lcc.degree()).values()) / size_lcc\n",
    "m = int(avg_degree_lcc / 2)"
   ]
  },
  {
   "cell_type": "code",
   "execution_count": 8,
   "id": "d7ffbb63",
   "metadata": {},
   "outputs": [
    {
     "name": "stdout",
     "output_type": "stream",
     "text": [
      "LCC Size: 168114, Avg Degree: 80.86842261798542, Edges per new node (m): 40\n"
     ]
    }
   ],
   "source": [
    "print(f\"LCC Size: {size_lcc}, Avg Degree: {avg_degree_lcc}, Edges per new node (m): {m}\")"
   ]
  },
  {
   "cell_type": "code",
   "execution_count": 9,
   "id": "e5ef7eac",
   "metadata": {},
   "outputs": [],
   "source": [
    "# Implement the Barabási-Albert (BA) algorithm\n",
    "def barabasi_albert_graph(n, m):\n",
    "    \"\"\"\n",
    "    Generate a Barabási-Albert graph with n nodes and m edges per new node.\n",
    "    \"\"\"\n",
    "    # Step 1: Initialize with a fully connected network of (m+1) nodes\n",
    "    graph = {i: set(range(i)) - {i} for i in range(m + 1)}\n",
    "    all_nodes = list(range(m + 1)) * m  # Initial attachment list based on degree\n",
    "\n",
    "    # Step 2: Add nodes one at a time with m connections\n",
    "    for new_node in range(m + 1, n):\n",
    "        graph[new_node] = set()\n",
    "        targets = set()\n",
    "        \n",
    "        while len(targets) < m:\n",
    "            target = random.choice(all_nodes)\n",
    "            if target not in targets:\n",
    "                targets.add(target)\n",
    "                graph[new_node].add(target)\n",
    "                graph[target].add(new_node)\n",
    "        \n",
    "        # Update attachment list with new connections\n",
    "        all_nodes.extend(targets)\n",
    "        all_nodes.extend([new_node] * m)\n",
    "\n",
    "    return graph"
   ]
  },
  {
   "cell_type": "code",
   "execution_count": null,
   "id": "0d91c95e",
   "metadata": {},
   "outputs": [],
   "source": [
    "# Generate the BA model with LCC size and average degree parameters\n",
    "ba_graph = barabasi_albert_graph(size_lcc, m)"
   ]
  },
  {
   "cell_type": "code",
   "execution_count": null,
   "id": "a28909a6",
   "metadata": {},
   "outputs": [],
   "source": [
    "# Calculate Metrics for the Simulated BA Model\n",
    "def calculate_metrics(graph):\n",
    "    \"\"\"Calculate basic metrics for an undirected graph represented as an adjacency list.\"\"\"\n",
    "    num_nodes = len(graph)\n",
    "    degrees = [len(neighbors) for neighbors in graph.values()]\n",
    "    avg_degree = sum(degrees) / num_nodes\n",
    "\n",
    "    # Calculate clustering coefficient\n",
    "    triangles = 0\n",
    "    triplets = 0\n",
    "    for node, neighbors in graph.items():\n",
    "        if len(neighbors) < 2:\n",
    "            continue\n",
    "        for neighbor in neighbors:\n",
    "            common_neighbors = neighbors.intersection(graph[neighbor])\n",
    "            triangles += len(common_neighbors)\n",
    "            triplets += len(neighbors) - 1\n",
    "\n",
    "    clustering_coefficient = triangles / triplets if triplets > 0 else 0\n",
    "\n",
    "    return {\n",
    "        \"Size\": num_nodes,\n",
    "        \"Average Degree\": avg_degree,\n",
    "        \"Clustering Coefficient\": clustering_coefficient\n",
    "    }"
   ]
  },
  {
   "cell_type": "code",
   "execution_count": null,
   "id": "7f6eda5b",
   "metadata": {},
   "outputs": [],
   "source": [
    "# Display metrics of the BA model\n",
    "metrics_ba = calculate_metrics(ba_graph)\n",
    "print(\"BA Model Metrics:\", metrics_ba)"
   ]
  }
 ],
 "metadata": {
  "kernelspec": {
   "display_name": "Python 3 (ipykernel)",
   "language": "python",
   "name": "python3"
  },
  "language_info": {
   "codemirror_mode": {
    "name": "ipython",
    "version": 3
   },
   "file_extension": ".py",
   "mimetype": "text/x-python",
   "name": "python",
   "nbconvert_exporter": "python",
   "pygments_lexer": "ipython3",
   "version": "3.10.9"
  }
 },
 "nbformat": 4,
 "nbformat_minor": 5
}
