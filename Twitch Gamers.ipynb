{
 "cells": [
  {
   "cell_type": "code",
   "execution_count": 2,
   "id": "a057f2d0",
   "metadata": {},
   "outputs": [],
   "source": [
    "import pandas as pd\n",
    "import networkx as nx\n",
    "import random\n",
    "import numpy as np\n",
    "\n",
    "# Load the data\n",
    "features_path = '/home/achoo/Desktop/GroupHw/large_twitch_features.csv'\n",
    "edges_path = '/home/achoo/Desktop/GroupHw/large_twitch_edges.csv'\n",
    "\n",
    "features_df = pd.read_csv(features_path)\n",
    "edges_df = pd.read_csv(edges_path)"
   ]
  },
  {
   "cell_type": "code",
   "execution_count": 3,
   "id": "5c7a5a51",
   "metadata": {},
   "outputs": [],
   "source": [
    "# Initialize an undirected graph\n",
    "G = nx.Graph()\n",
    "\n",
    "# Add edges to the graph\n",
    "edges = edges_df[['numeric_id_1', 'numeric_id_2']].values\n",
    "G.add_edges_from(edges)"
   ]
  },
  {
   "cell_type": "code",
   "execution_count": 4,
   "id": "9e071aa3",
   "metadata": {},
   "outputs": [],
   "source": [
    "# Extract the largest connected component\n",
    "largest_cc = max(nx.connected_components(G), key=len)\n",
    "G_lcc = G.subgraph(largest_cc).copy()"
   ]
  },
  {
   "cell_type": "code",
   "execution_count": 5,
   "id": "a6cdc445",
   "metadata": {},
   "outputs": [
    {
     "data": {
      "text/plain": [
       "168114"
      ]
     },
     "execution_count": 5,
     "metadata": {},
     "output_type": "execute_result"
    }
   ],
   "source": [
    "# Calculate network properties for the largest connected component\n",
    "# 1. Size of the graph (number of nodes)\n",
    "size = G_lcc.number_of_nodes()\n",
    "size"
   ]
  },
  {
   "cell_type": "code",
   "execution_count": 6,
   "id": "d8faa56b",
   "metadata": {},
   "outputs": [
    {
     "data": {
      "text/plain": [
       "80.86842261798542"
      ]
     },
     "execution_count": 6,
     "metadata": {},
     "output_type": "execute_result"
    }
   ],
   "source": [
    "# 2. Average degree\n",
    "avg_degree = sum(dict(G_lcc.degree()).values()) / size\n",
    "avg_degree"
   ]
  },
  {
   "cell_type": "code",
   "execution_count": 12,
   "id": "04d1d3f4",
   "metadata": {},
   "outputs": [
    {
     "data": {
      "text/plain": [
       "2.903"
      ]
     },
     "execution_count": 12,
     "metadata": {},
     "output_type": "execute_result"
    }
   ],
   "source": [
    "# 3. Average shortest path length\n",
    "# avg_shortest_path = nx.average_shortest_path_length(G_lcc)\n",
    "\n",
    "sample_size = 1000  # Define sample size for path estimation\n",
    "nodes = list(G_lcc.nodes())\n",
    "sample_pairs = [(random.choice(nodes), random.choice(nodes)) for _ in range(sample_size)]\n",
    "\n",
    "# Calculate path lengths only for sampled pairs\n",
    "sampled_path_lengths = [nx.shortest_path_length(G_lcc, source, target) \n",
    "                        for source, target in sample_pairs if nx.has_path(G_lcc, source, target)]\n",
    "approx_avg_shortest_path = sum(sampled_path_lengths) / len(sampled_path_lengths)\n",
    "approx_avg_shortest_path"
   ]
  },
  {
   "cell_type": "code",
   "execution_count": 8,
   "id": "e2d50c32",
   "metadata": {},
   "outputs": [
    {
     "data": {
      "text/plain": [
       "0.01467773372259702"
      ]
     },
     "execution_count": 8,
     "metadata": {},
     "output_type": "execute_result"
    }
   ],
   "source": [
    "# 4. Clustering coefficient\n",
    "# clustering_coefficient = nx.average_clustering(G_lcc)\n",
    "\n",
    "subgraph_size = 1000  # Adjust based on available memory\n",
    "nodes_sample = random.sample(list(G_lcc.nodes()), subgraph_size)\n",
    "G_sub = G_lcc.subgraph(nodes_sample)\n",
    "\n",
    "# Calculate clustering on the smaller subgraph\n",
    "clustering_coefficient_subgraph = nx.average_clustering(G_sub)\n",
    "clustering_coefficient_subgraph\n",
    "\n",
    "clustering_coefficient_subgraph"
   ]
  },
  {
   "cell_type": "code",
   "execution_count": null,
   "id": "4c0d6334",
   "metadata": {},
   "outputs": [],
   "source": []
  }
 ],
 "metadata": {
  "kernelspec": {
   "display_name": "Python 3 (ipykernel)",
   "language": "python",
   "name": "python3"
  },
  "language_info": {
   "codemirror_mode": {
    "name": "ipython",
    "version": 3
   },
   "file_extension": ".py",
   "mimetype": "text/x-python",
   "name": "python",
   "nbconvert_exporter": "python",
   "pygments_lexer": "ipython3",
   "version": "3.10.9"
  }
 },
 "nbformat": 4,
 "nbformat_minor": 5
}
